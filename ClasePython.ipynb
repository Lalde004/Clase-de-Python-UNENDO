{
  "metadata": {
    "kernelspec": {
      "name": "python",
      "display_name": "Python (Pyodide)",
      "language": "python"
    },
    "language_info": {
      "codemirror_mode": {
        "name": "python",
        "version": 3
      },
      "file_extension": ".py",
      "mimetype": "text/x-python",
      "name": "python",
      "nbconvert_exporter": "python",
      "pygments_lexer": "ipython3",
      "version": "3.8"
    }
  },
  "nbformat_minor": 4,
  "nbformat": 4,
  "cells": [
    {
      "cell_type": "markdown",
      "source": "# Curso Básico de Python - Temario #",
      "metadata": {}
    },
    {
      "cell_type": "markdown",
      "source": "## 1) Introducción a Python ##",
      "metadata": {}
    },
    {
      "cell_type": "markdown",
      "source": "### ¿Qué es Python? ###",
      "metadata": {}
    },
    {
      "cell_type": "markdown",
      "source": "- Lenguaje de programación de propósito general",
      "metadata": {}
    },
    {
      "cell_type": "markdown",
      "source": "- Sintaxis fácil de aprender",
      "metadata": {}
    },
    {
      "cell_type": "markdown",
      "source": "- Usado en desarrollo web, ciencia de datos, automatización, etc.",
      "metadata": {}
    },
    {
      "cell_type": "markdown",
      "source": "## 2) Sintaxis y Variables en Python ##",
      "metadata": {}
    },
    {
      "cell_type": "markdown",
      "source": "### Sintaxis básica ###",
      "metadata": {}
    },
    {
      "cell_type": "markdown",
      "source": "- Sensible a mayúsculas y minúsculas",
      "metadata": {}
    },
    {
      "cell_type": "markdown",
      "source": "- Indentación (no se usan llaves {})",
      "metadata": {}
    },
    {
      "cell_type": "markdown",
      "source": "- Comentarios:",
      "metadata": {}
    },
    {
      "cell_type": "code",
      "source": "#Esto es un comentario",
      "metadata": {
        "trusted": true
      },
      "outputs": [],
      "execution_count": 6
    },
    {
      "cell_type": "markdown",
      "source": "### Variables ###",
      "metadata": {}
    },
    {
      "cell_type": "markdown",
      "source": "- Convenciones de nombres",
      "metadata": {}
    },
    {
      "cell_type": "markdown",
      "source": "- Asignación de valores:",
      "metadata": {}
    },
    {
      "cell_type": "code",
      "source": "nombre = \"Leonardo\"\nedad = 29\npi = 3.14159",
      "metadata": {
        "trusted": true
      },
      "outputs": [],
      "execution_count": 9
    },
    {
      "cell_type": "markdown",
      "source": "- Inferencia de tipos (no es necesario declarar tipos)",
      "metadata": {}
    },
    {
      "cell_type": "markdown",
      "source": "- Imprimiendo valores:",
      "metadata": {}
    },
    {
      "cell_type": "code",
      "source": "print(nombre, edad, pi)",
      "metadata": {
        "trusted": true
      },
      "outputs": [
        {
          "name": "stdout",
          "text": "Leonardo 29 3.14159\n",
          "output_type": "stream"
        }
      ],
      "execution_count": 10
    },
    {
      "cell_type": "markdown",
      "source": "## 3. Data Structures ##",
      "metadata": {}
    },
    {
      "cell_type": "markdown",
      "source": "### Lists (Listas) ###",
      "metadata": {}
    },
    {
      "cell_type": "markdown",
      "source": "- Definición: Colecciones ordenadas y mutables",
      "metadata": {}
    },
    {
      "cell_type": "markdown",
      "source": "En programación, **mutable** se refiere a la capacidad de un objeto para ser modificado después de haber sido creado. Un objeto mutable puede cambiar su contenido o estado sin necesidad de crear uno nuevo. En Python, algunas estructuras de datos como listas y diccionarios son mutables, lo que significa que puedes añadir, modificar o eliminar elementos de ellas.",
      "metadata": {}
    },
    {
      "cell_type": "markdown",
      "source": "- Cuándo usar:\n  - Cuando necesitas una colección ordenada de elementos.\n  - Cuando la colección puede cambiar con el tiempo (es decir, los elementos pueden ser añadidos, eliminados o modificados).\n  - Cuando necesitas iterar sobre los elementos varias veces o acceder frecuentemente a los elementos por su posición (índice).",
      "metadata": {}
    },
    {
      "cell_type": "markdown",
      "source": "- Cuándo NO usar listas:\n  - Cuando el número de elementos debe ser fijo (usa tuplas en su lugar).\n  - Cuando necesitas asociar elementos con claves únicas (usa diccionarios).",
      "metadata": {}
    },
    {
      "cell_type": "markdown",
      "source": "- Creación de una lista:",
      "metadata": {}
    },
    {
      "cell_type": "code",
      "source": "frutas = [\"manzana\", \"banana\", \"cereza\"]",
      "metadata": {
        "trusted": true
      },
      "outputs": [],
      "execution_count": 12
    },
    {
      "cell_type": "markdown",
      "source": "- Acceder a elementos:",
      "metadata": {}
    },
    {
      "cell_type": "code",
      "source": "print(frutas)",
      "metadata": {
        "trusted": true
      },
      "outputs": [
        {
          "name": "stdout",
          "text": "['manzana', 'banana', 'cereza']\n",
          "output_type": "stream"
        }
      ],
      "execution_count": 14
    },
    {
      "cell_type": "code",
      "source": "print(frutas[0])",
      "metadata": {
        "trusted": true
      },
      "outputs": [
        {
          "name": "stdout",
          "text": "manzana\n",
          "output_type": "stream"
        }
      ],
      "execution_count": 13
    },
    {
      "cell_type": "code",
      "source": "print(frutas[2])",
      "metadata": {
        "trusted": true
      },
      "outputs": [
        {
          "name": "stdout",
          "text": "cereza\n",
          "output_type": "stream"
        }
      ],
      "execution_count": 16
    },
    {
      "cell_type": "markdown",
      "source": "- Modificar listas:",
      "metadata": {}
    },
    {
      "cell_type": "code",
      "source": "frutas.append(\"naranja\")",
      "metadata": {
        "trusted": true
      },
      "outputs": [],
      "execution_count": 17
    },
    {
      "cell_type": "code",
      "source": "print(frutas)",
      "metadata": {
        "trusted": true
      },
      "outputs": [
        {
          "name": "stdout",
          "text": "['manzana', 'banana', 'cereza', 'naranja']\n",
          "output_type": "stream"
        }
      ],
      "execution_count": 18
    },
    {
      "cell_type": "code",
      "source": "frutas.remove(\"banana\")",
      "metadata": {
        "trusted": true
      },
      "outputs": [],
      "execution_count": 19
    },
    {
      "cell_type": "code",
      "source": "print(frutas)",
      "metadata": {
        "trusted": true
      },
      "outputs": [
        {
          "name": "stdout",
          "text": "['manzana', 'cereza', 'naranja']\n",
          "output_type": "stream"
        }
      ],
      "execution_count": 20
    },
    {
      "cell_type": "markdown",
      "source": "- Iterar sobre listas:",
      "metadata": {}
    },
    {
      "cell_type": "code",
      "source": "for fruta in frutas:\n    print(fruta)",
      "metadata": {
        "trusted": true
      },
      "outputs": [
        {
          "name": "stdout",
          "text": "manzana\ncereza\nnaranja\n",
          "output_type": "stream"
        }
      ],
      "execution_count": 22
    },
    {
      "cell_type": "markdown",
      "source": "### Tuplas ###",
      "metadata": {}
    },
    {
      "cell_type": "markdown",
      "source": "- Definición: Colecciones ordenadas e inmutables",
      "metadata": {}
    },
    {
      "cell_type": "markdown",
      "source": "- **Cuándo usar**:\n  - Cuando necesitas una colección ordenada de elementos, pero no debería cambiar después de ser creada.\n  - Cuando quieres asegurar la inmutabilidad de tus datos.\n  - Cuando necesitas una estructura ligera y rápida (las tuplas son generalmente más rápidas que las listas en términos de rendimiento).\n  - En casos como retornar múltiples valores desde una función.",
      "metadata": {}
    },
    {
      "cell_type": "markdown",
      "source": "- **Cuándo NO usar tuplas**:\n  - Cuando necesitas modificar los datos después de su creación (usa listas).\n  - Cuando necesitas una colección con pares clave-valor (usa diccionarios).",
      "metadata": {}
    },
    {
      "cell_type": "markdown",
      "source": "- Creación de una tupla:",
      "metadata": {}
    },
    {
      "cell_type": "code",
      "source": "punto = (2, 3)",
      "metadata": {
        "trusted": true
      },
      "outputs": [],
      "execution_count": 23
    },
    {
      "cell_type": "markdown",
      "source": "- Acceder a elementos:",
      "metadata": {}
    },
    {
      "cell_type": "code",
      "source": "print(punto[1])",
      "metadata": {
        "trusted": true
      },
      "outputs": [
        {
          "name": "stdout",
          "text": "3\n",
          "output_type": "stream"
        }
      ],
      "execution_count": 24
    },
    {
      "cell_type": "code",
      "source": "print(punto[0])",
      "metadata": {
        "trusted": true
      },
      "outputs": [
        {
          "name": "stdout",
          "text": "2\n",
          "output_type": "stream"
        }
      ],
      "execution_count": 25
    },
    {
      "cell_type": "markdown",
      "source": "### Diccionarios ###",
      "metadata": {}
    },
    {
      "cell_type": "markdown",
      "source": "- Definición: Pares clave-valor, no ordenados, mutables",
      "metadata": {}
    },
    {
      "cell_type": "markdown",
      "source": "**Clave-Valor**: Cuando hablamos de almacenar datos como pares clave-valor, nos referimos a una estructura de datos donde cada valor está asociado a una clave única que sirve para identificarlo.\n\nImagina una agenda de contactos telefónicos. Cada contacto tiene un nombre (la clave) y un número de teléfono (el valor). En lugar de buscar a una persona por su posición en una lista, puedes buscar directamente usando su nombre.",
      "metadata": {}
    },
    {
      "cell_type": "markdown",
      "source": "- **Cuándo usar**:\n  - Cuando necesitas almacenar datos como pares clave-valor.\n  - Cuando quieres buscar valores rápidamente en función de claves personalizadas (no necesariamente un índice entero).\n  - Cuando necesitas crear una relación entre elementos (por ejemplo, asociar nombres con números de teléfono).",
      "metadata": {}
    },
    {
      "cell_type": "markdown",
      "source": "- **Cuándo NO usar diccionarios**:\n  - Cuando necesitas mantener un orden estricto de los elementos (usa listas o tuplas).\n  - Cuando no necesitas asociar valores con claves (usa listas o tuplas).",
      "metadata": {}
    },
    {
      "cell_type": "markdown",
      "source": "- Creación de un diccionario:",
      "metadata": {}
    },
    {
      "cell_type": "code",
      "source": "persona = {\"nombre\": \"Leonardo\", \"edad\": 29}",
      "metadata": {
        "trusted": true
      },
      "outputs": [],
      "execution_count": 59
    },
    {
      "cell_type": "markdown",
      "source": "- Acceder a valores:",
      "metadata": {}
    },
    {
      "cell_type": "code",
      "source": "print(persona[\"nombre\"])",
      "metadata": {
        "trusted": true
      },
      "outputs": [
        {
          "name": "stdout",
          "text": "Leonardo\n",
          "output_type": "stream"
        }
      ],
      "execution_count": 60
    },
    {
      "cell_type": "markdown",
      "source": "- Modificar un diccionario:",
      "metadata": {}
    },
    {
      "cell_type": "code",
      "source": "persona[\"edad\"] = 30\npersona[\"ciudad\"] = \"Oviedo\"",
      "metadata": {
        "trusted": true
      },
      "outputs": [],
      "execution_count": 65
    },
    {
      "cell_type": "code",
      "source": "print(persona)",
      "metadata": {
        "trusted": true
      },
      "outputs": [
        {
          "name": "stdout",
          "text": "{'nombre': 'Leonardo', 'edad': 18, 'ciudad': 'Oviedo'}\n",
          "output_type": "stream"
        }
      ],
      "execution_count": 62
    },
    {
      "cell_type": "markdown",
      "source": "- Iterar sobre un diccionario:",
      "metadata": {}
    },
    {
      "cell_type": "code",
      "source": "for clave, valor in persona.items():\n    print(clave, valor)",
      "metadata": {
        "trusted": true
      },
      "outputs": [
        {
          "name": "stdout",
          "text": "nombre Leonardo\nedad 18\nciudad Oviedo\n",
          "output_type": "stream"
        }
      ],
      "execution_count": 63
    },
    {
      "cell_type": "markdown",
      "source": "## 4. Control de Flujo ##\n",
      "metadata": {}
    },
    {
      "cell_type": "markdown",
      "source": "### Condicionales ###",
      "metadata": {}
    },
    {
      "cell_type": "markdown",
      "source": "- **if**, **elif**, **else**:",
      "metadata": {}
    },
    {
      "cell_type": "code",
      "source": "if edad > 18:\n    print(\"Adulto\")\nelif edad == 18:\n    print(\"Acaba de cumplir 18\")\nelse:\n    print(\"Menor de edad\")",
      "metadata": {
        "trusted": true
      },
      "outputs": [
        {
          "name": "stdout",
          "text": "Adulto\n",
          "output_type": "stream"
        }
      ],
      "execution_count": 64
    },
    {
      "cell_type": "markdown",
      "source": "## Bucles ##",
      "metadata": {}
    },
    {
      "cell_type": "markdown",
      "source": "- Bucle **for**:",
      "metadata": {}
    },
    {
      "cell_type": "code",
      "source": "for i in range(5):\n    print(i)",
      "metadata": {
        "trusted": true
      },
      "outputs": [
        {
          "name": "stdout",
          "text": "0\n1\n2\n3\n4\n",
          "output_type": "stream"
        }
      ],
      "execution_count": 66
    },
    {
      "cell_type": "markdown",
      "source": "- Bucle **while**:",
      "metadata": {}
    },
    {
      "cell_type": "code",
      "source": "contador = 0\nwhile contador < 5:\n    print(contador)\n    contador += 1",
      "metadata": {
        "trusted": true
      },
      "outputs": [
        {
          "name": "stdout",
          "text": "0\n1\n2\n3\n4\n",
          "output_type": "stream"
        }
      ],
      "execution_count": 67
    },
    {
      "cell_type": "markdown",
      "source": "## Break y Continue ##",
      "metadata": {}
    },
    {
      "cell_type": "markdown",
      "source": "- **break**: Termina el bucle antes de tiempo",
      "metadata": {}
    },
    {
      "cell_type": "markdown",
      "source": "- **continue**: Salta a la siguiente iteración",
      "metadata": {}
    },
    {
      "cell_type": "code",
      "source": "for i in range(5):\n    if i == 3:\n        break  # Sale del bucle\n    if i == 1:\n        continue  # Salta el resto de la iteración actual\n    print(i)",
      "metadata": {
        "trusted": true
      },
      "outputs": [
        {
          "name": "stdout",
          "text": "0\n2\n",
          "output_type": "stream"
        }
      ],
      "execution_count": 68
    },
    {
      "cell_type": "markdown",
      "source": "## 5. Funciones ##",
      "metadata": {}
    },
    {
      "cell_type": "markdown",
      "source": "### Definiendo Funciones ###",
      "metadata": {}
    },
    {
      "cell_type": "markdown",
      "source": "- Sintaxis para definir una función:",
      "metadata": {}
    },
    {
      "cell_type": "code",
      "source": "def saludar(nombre):\n    print(f\"Hola, {nombre}\")",
      "metadata": {
        "trusted": true
      },
      "outputs": [],
      "execution_count": 70
    },
    {
      "cell_type": "markdown",
      "source": "- Llamando a una función:",
      "metadata": {}
    },
    {
      "cell_type": "code",
      "source": "saludar(\"Lucas\")",
      "metadata": {
        "trusted": true
      },
      "outputs": [
        {
          "name": "stdout",
          "text": "Hola, Lucas\n",
          "output_type": "stream"
        }
      ],
      "execution_count": 72
    },
    {
      "cell_type": "markdown",
      "source": "### Valores de Retorno ###",
      "metadata": {}
    },
    {
      "cell_type": "markdown",
      "source": "- Las funciones pueden devolver valores usando **return**:",
      "metadata": {}
    },
    {
      "cell_type": "code",
      "source": "def sumar(a, b):\n    return a + b\nresultado = sumar(2, 3)",
      "metadata": {
        "trusted": true
      },
      "outputs": [],
      "execution_count": 74
    },
    {
      "cell_type": "code",
      "source": "print(resultado)",
      "metadata": {
        "trusted": true
      },
      "outputs": [
        {
          "name": "stdout",
          "text": "5\n",
          "output_type": "stream"
        }
      ],
      "execution_count": 75
    },
    {
      "cell_type": "markdown",
      "source": "### Parámetros y Argumentos ###",
      "metadata": {}
    },
    {
      "cell_type": "markdown",
      "source": "- Argumentos posicionales y con nombre\n",
      "metadata": {}
    },
    {
      "cell_type": "markdown",
      "source": "- Valores por defecto para parámetros:",
      "metadata": {}
    },
    {
      "cell_type": "code",
      "source": "def saludar(nombre=\"Invitado\"):\n    print(f\"Hola, {nombre}\")",
      "metadata": {
        "trusted": true
      },
      "outputs": [],
      "execution_count": 80
    },
    {
      "cell_type": "code",
      "source": "saludar()",
      "metadata": {
        "trusted": true
      },
      "outputs": [
        {
          "name": "stdout",
          "text": "Hola, Invitado\n",
          "output_type": "stream"
        }
      ],
      "execution_count": 81
    },
    {
      "cell_type": "markdown",
      "source": "### Ámbito (Scope) ###",
      "metadata": {}
    },
    {
      "cell_type": "markdown",
      "source": "- Variables locales vs globales:",
      "metadata": {}
    },
    {
      "cell_type": "markdown",
      "source": "**Global**: Una variable declarada fuera de funciones y accesible en cualquier parte del código (a menos que se declare una variable local con el mismo nombre).",
      "metadata": {}
    },
    {
      "cell_type": "markdown",
      "source": "**Local**: Una variable que existe solo dentro de una función y no puede ser accedida desde fuera de esa función.",
      "metadata": {}
    },
    {
      "cell_type": "code",
      "source": "x = 10\ndef funcion():\n    x = 5  # Ámbito local\n    print(x)  # Salida: 5\nfuncion()\nprint(x)  # Salida: 10 (global)",
      "metadata": {
        "trusted": true
      },
      "outputs": [
        {
          "name": "stdout",
          "text": "5\n10\n",
          "output_type": "stream"
        }
      ],
      "execution_count": 82
    },
    {
      "cell_type": "markdown",
      "source": "- Bucle for:",
      "metadata": {}
    },
    {
      "cell_type": "code",
      "source": "",
      "metadata": {
        "trusted": true
      },
      "outputs": [],
      "execution_count": null
    }
  ]
}